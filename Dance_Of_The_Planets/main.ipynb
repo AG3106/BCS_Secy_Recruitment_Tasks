{
 "cells": [
  {
   "metadata": {},
   "cell_type": "markdown",
   "source": "# The Dance of The Planets",
   "id": "3d283865d976fba7"
  },
  {
   "metadata": {},
   "cell_type": "markdown",
   "source": "Importing libraries",
   "id": "5b010bfa790c576d"
  },
  {
   "metadata": {
    "ExecuteTime": {
     "end_time": "2025-05-21T04:18:42.679073Z",
     "start_time": "2025-05-21T04:18:42.156720Z"
    }
   },
   "cell_type": "code",
   "source": [
    "import numpy as np\n",
    "import matplotlib.pyplot as plt\n",
    "import pandas as pd\n",
    "from scipy.integrate import odeint\n",
    "import pandas\n",
    "\n",
    "G = 6.67430e-11 #gravitational constant"
   ],
   "id": "e1472cd4bceaad2c",
   "outputs": [],
   "execution_count": 1
  },
  {
   "metadata": {},
   "cell_type": "markdown",
   "source": "Differential equation for two body problem:",
   "id": "2e7d831ad17d567c"
  },
  {
   "metadata": {
    "ExecuteTime": {
     "end_time": "2025-05-21T04:18:42.745405Z",
     "start_time": "2025-05-21T04:18:42.741107Z"
    }
   },
   "cell_type": "code",
   "source": [
    "def twobp(state, t, m1, m2):\n",
    "\n",
    "    x1, y1, x2, y2, vx1, vy1, vx2, vy2 = state\n",
    "\n",
    "    dx = x2 - x1\n",
    "    dy = y2 - y1\n",
    "    r = np.sqrt(dx**2 + dy**2)\n",
    "    if r < 1e-5: #in case of error division by zero\n",
    "        r = 1e-5\n",
    "    r3 = r**3\n",
    "\n",
    "    ax1 = G * m2 * dx / r3\n",
    "    ay1 = G * m2 * dy / r3\n",
    "    ax2 = -G * m1 * dx / r3\n",
    "    ay2 = -G * m1 * dy / r3\n",
    "\n",
    "    state_dot = [vx1, vy1, vx2, vy2, ax1, ay1, ax2, ay2]\n",
    "    return np.array(state_dot)"
   ],
   "id": "7918bbe7ebb5e17e",
   "outputs": [],
   "execution_count": 2
  },
  {
   "metadata": {},
   "cell_type": "markdown",
   "source": [
    "**Generating Dataset:** <br>\n",
    "An important consideration while generating data was to consider real world proportionality.\n",
    "Like while generating distance between two bodies for all generations it is to be considered that gravitational force won't be negligible.\n",
    "For velocity it should be considered that for all generations it should not be too higher than escape velocity. For time should also be not quite small as well as large.\n",
    "<br>\n",
    "Hence, while generating data this all were taken under consideration. <br>\n",
    "Masses were taken in range of 10 to 100.\n",
    "For r in range of 0 to 1 gravitational force is not negligible.\n",
    "Velocities were taken in proportion to their escape velocities.\n",
    "Time was taken in proportion to time period."
   ],
   "id": "d8c78b060a0ecb"
  },
  {
   "metadata": {},
   "cell_type": "markdown",
   "source": "Currently only one time stamp is generated for each state, but to get time dependence for each body, we will duplicate the data and add multiple time stamps for same state.",
   "id": "4b205406fd18afc1"
  },
  {
   "metadata": {
    "ExecuteTime": {
     "end_time": "2025-05-21T04:18:42.810368Z",
     "start_time": "2025-05-21T04:18:42.804139Z"
    }
   },
   "cell_type": "code",
   "source": [
    "m1_data = np.random.uniform(10, 100, 50)\n",
    "m2_data = np.random.uniform(10, 100, 50)\n",
    "r_data =  np.random.uniform(0, 1, size=m1_data.shape)\n",
    "v1_data = np.sqrt((G * (m1_data + m2_data) / r_data) * np.random.uniform(0, 4, size=m1_data.shape)) # escape velocity = sqrt(2*G*m/r)\n",
    "v2_data = np.sqrt((G * (m1_data + m2_data) / r_data) * np.random.uniform(0, 4, size=m1_data.shape))\n",
    "x1_data = np.random.uniform(-5, 5, size=m1_data.shape)\n",
    "y1_data = np.random.uniform(-5, 5, size=m1_data.shape)\n",
    "thetar_data =  np.random.uniform(0, 2 * np.pi, size=m1_data.shape) # theta is generated to divide into x and y components\n",
    "x2_data = x1_data + r_data * np.cos(thetar_data)\n",
    "y2_data = y1_data + r_data * np.sin(thetar_data)\n",
    "theta1_data= np.random.uniform(0, 2 * np.pi, size=m1_data.shape)\n",
    "vx1_data = v1_data * np.cos(theta1_data)\n",
    "vy1_data = v1_data * np.sin(theta1_data)\n",
    "theta2_data = np.random.uniform(0, 2 * np.pi, size=m1_data.shape)\n",
    "vx2_data = v2_data * np.cos(theta2_data)\n",
    "vy2_data = v2_data * np.sin(theta2_data)\n",
    "t_data = np.sqrt( 1e-2/G*np.ones_like(m1_data))*np.random.uniform(0.5,1,50) # time period = sqrt(r3/GM)"
   ],
   "id": "e9e2500c4daaf73b",
   "outputs": [],
   "execution_count": 3
  },
  {
   "metadata": {},
   "cell_type": "markdown",
   "source": "Converting data generated into dataframe and duplicating states.",
   "id": "55e0c5b38a4989d"
  },
  {
   "metadata": {
    "ExecuteTime": {
     "end_time": "2025-05-21T04:18:42.859110Z",
     "start_time": "2025-05-21T04:18:42.854441Z"
    }
   },
   "cell_type": "code",
   "source": [
    "data = {'x1': x1_data, 'y1': y1_data, 'x2': x2_data, 'y2': y2_data, 'vx1': vx1_data, 'vy1': vy1_data, 'vx2': vx2_data, 'vy2': vy2_data, 'm1': m1_data, 'm2': m2_data}\n",
    "data = pandas.DataFrame(data)\n",
    "data = pd.concat([data]*50, ignore_index=True)\n",
    "t_data_f = t_data.copy()\n",
    "for i in range(49):\n",
    "    t_data_f = np.append(t_data_f, t_data*(i+1)*0.05)\n",
    "data['t'] = t_data_f"
   ],
   "id": "21cdad5f0695d1ac",
   "outputs": [],
   "execution_count": 4
  },
  {
   "metadata": {},
   "cell_type": "markdown",
   "source": [
    " One issue is the order of data. In SI units (currently used), the difference in order of data is quite large. To solve this issue a simple solution is to change units during propagation through neural network. <br>\n",
    " Hence, the changes are: <br>\n",
    " 1. Masses: 1 unit  = 10 kg.\n",
    " 2. time: 1 unit = 1e4 s.\n",
    " <br>\n",
    " This leads to velocity unit being 1 unit = 1e-4 m/s and acceleration being 1 unit = 1e-8 m/s."
   ],
   "id": "ac9d9f89e01c086c"
  },
  {
   "metadata": {
    "ExecuteTime": {
     "end_time": "2025-05-21T04:18:42.923555Z",
     "start_time": "2025-05-21T04:18:42.919134Z"
    }
   },
   "cell_type": "code",
   "source": [
    "data['vx1'] = 1e4*data['vx1']\n",
    "data['vy1'] = 1e4*data['vy1']\n",
    "data['vx2'] = 1e4*data['vx2']\n",
    "data['vy2'] = 1e4*data['vy2']\n",
    "data['m1'] = 1e-1*data['m1']\n",
    "data['m2'] = 1e-1*data['m2']\n",
    "data['t'] = 1e-4*data['t']"
   ],
   "id": "a83985e5bc770680",
   "outputs": [],
   "execution_count": 5
  },
  {
   "metadata": {},
   "cell_type": "markdown",
   "source": "Generating trajectory of one state using `odeint` function of scipy library.",
   "id": "1017a8dd8c2abea4"
  },
  {
   "metadata": {
    "ExecuteTime": {
     "end_time": "2025-05-21T04:18:43.086155Z",
     "start_time": "2025-05-21T04:18:42.981385Z"
    }
   },
   "cell_type": "code",
   "source": [
    "# reverting units of data to SI\n",
    "state_0 = np.array([data.x1[0], data.y1[0], data.x2[0], data.y2[0], 1e-4*data.vx1[0], 1e-4*data.vy1[0], 1e-4*data.vx2[0], 1e-4*data.vy2[0]])\n",
    "t = np.linspace(0, data.t[0], 1000)*1e4\n",
    "m1 = 10*data.m1[0]\n",
    "m2 = 10*data.m2[0]\n",
    "sol = odeint(twobp, state_0, t, args=(m1, m2))\n",
    "\n",
    "x1 = sol[:,0]\n",
    "y1 = sol[:,1]\n",
    "x2 = sol[:,2]\n",
    "y2 = sol[:,3]\n",
    "\n",
    "plt.plot(x1, y1, label='Body 1')\n",
    "plt.plot(x2, y2, label='Body 2')\n",
    "plt.legend()\n",
    "plt.axis('equal')\n",
    "plt.grid(True)\n",
    "plt.title('Two-Body Orbit')\n",
    "plt.show()\n"
   ],
   "id": "ac3fc50fe928ce3e",
   "outputs": [
    {
     "data": {
      "text/plain": [
       "<Figure size 640x480 with 1 Axes>"
      ],
      "image/png": "[encoded data removed]"
     },
     "metadata": {},
     "output_type": "display_data"
    }
   ],
   "execution_count": 6
  },
  {
   "metadata": {},
   "cell_type": "markdown",
   "source": "Adding positions at time t in dataset",
   "id": "51dd68c480b7445d"
  },
  {
   "metadata": {
    "ExecuteTime": {
     "end_time": "2025-05-21T04:18:44.331497Z",
     "start_time": "2025-05-21T04:18:43.113059Z"
    }
   },
   "cell_type": "code",
   "source": [
    "x1t_data = []\n",
    "y1t_data = []\n",
    "x2t_data = []\n",
    "y2t_data = []\n",
    "for row in data.itertuples(index=False):\n",
    "    # reverting to SI units\n",
    "    state = np.array([row.x1, row.y1, row.x2, row.y2, 1e-4*row.vx1, 1e-4*row.vy1, 1e-4*row.vx2, 1e-4*row.vy2])\n",
    "    m1 = 10*row.m1\n",
    "    m2 = 10*row.m2\n",
    "    t = 1e4*row.t\n",
    "    t = np.linspace(0,t, 1000)\n",
    "    sol = odeint(twobp, state, t, args=(m1, m2))\n",
    "    x1t_data.append(sol[-1,0])\n",
    "    y1t_data.append(sol[-1,1])\n",
    "    x2t_data.append(sol[-1,2])\n",
    "    y2t_data.append(sol[-1,3])\n",
    "x1t_data = np.array(x1t_data)\n",
    "y1t_data = np.array(y1t_data)\n",
    "x2t_data = np.array(x2t_data)\n",
    "y2t_data = np.array(y2t_data)\n",
    "data['x1t'] = x1t_data\n",
    "data['y1t'] = y1t_data\n",
    "data['x2t'] = x2t_data\n",
    "data['y2t'] = y2t_data"
   ],
   "id": "8f93874e03c69fef",
   "outputs": [],
   "execution_count": 7
  },
  {
   "metadata": {
    "ExecuteTime": {
     "end_time": "2025-05-21T04:18:44.439227Z",
     "start_time": "2025-05-21T04:18:44.364237Z"
    }
   },
   "cell_type": "code",
   "source": "data.to_csv('data.csv') # saving csv file",
   "id": "c01e20e411daf9a7",
   "outputs": [],
   "execution_count": 8
  },
  {
   "metadata": {
    "ExecuteTime": {
     "end_time": "2025-05-21T04:18:44.478755Z",
     "start_time": "2025-05-21T04:18:44.467944Z"
    }
   },
   "cell_type": "code",
   "source": "data # visualizing data",
   "id": "54976b3c0c98d15c",
   "outputs": [
    {
     "data": {
      "text/plain": [
       "            x1        y1        x2        y2       vx1       vy1       vx2  \\\n",
       "0    -3.176733  3.528593 -2.610199  3.788649  0.772774 -0.648439 -0.256070   \n",
       "1     2.167688  4.112799  2.665590  4.543015 -0.172910  1.679364 -0.312903   \n",
       "2    -2.420104  2.364522 -3.190365  2.433420 -1.317729  0.420177 -0.306607   \n",
       "3    -1.257329  4.287604 -1.711570  3.929707 -0.134418 -0.400667 -0.171217   \n",
       "4     4.625560  3.907505  4.547057  3.792817 -3.583283  0.288738  2.799466   \n",
       "...        ...       ...       ...       ...       ...       ...       ...   \n",
       "2495  3.793990 -0.683665  3.909196 -0.681814 -2.179585 -3.540163  0.868672   \n",
       "2496  3.651169  4.267634  3.214102  4.213653  1.981248  0.760529 -1.423569   \n",
       "2497  1.333321  4.243540  1.170640  4.419923 -2.314506 -1.599802  1.300827   \n",
       "2498 -0.844709 -1.040528 -1.023720 -1.801638 -1.011888  0.632039  1.409342   \n",
       "2499  0.773314 -1.134915  0.750336 -1.354881  1.730950 -2.423179 -2.500138   \n",
       "\n",
       "           vy2        m1        m2         t       x1t       y1t       x2t  \\\n",
       "0    -1.076265  1.712414  7.187212  1.153233 -3.578844  2.300292 -2.597367   \n",
       "1    -0.006687  4.355681  3.867865  1.070974  2.410551  5.742077  1.848447   \n",
       "2     0.744809  3.566654  2.207301  0.955736 -3.665794  3.099544 -3.505555   \n",
       "3     1.628397  5.834528  8.010840  0.799889 -1.910788  4.180594 -1.450901   \n",
       "4    -2.138203  9.186412  3.890987  0.832242  1.768514  3.798873  6.581505   \n",
       "...        ...       ...       ...       ...       ...       ...       ...   \n",
       "2495  2.338623  5.522041  8.005375  2.230184  0.533154 -7.486158  4.742800   \n",
       "2496  0.613922  5.095318  4.897024  1.828028  6.937009  5.628444  0.961318   \n",
       "2497  1.995690  2.581490  7.918808  1.822104 -2.854822  2.401683  3.531387   \n",
       "2498  0.181507  8.697421  5.127894  2.787155 -3.361706  0.183761  2.389921   \n",
       "2499  0.276430  6.470337  9.827397  2.301928  2.156184 -7.538594 -3.291881   \n",
       "\n",
       "           y2t  \n",
       "0     2.661948  \n",
       "1     4.726480  \n",
       "2     2.606468  \n",
       "3     5.076762  \n",
       "4     2.837125  \n",
       "...        ...  \n",
       "2495  3.779995  \n",
       "2496  5.366571  \n",
       "2497  7.706436  \n",
       "2498 -0.384433  \n",
       "2499 -0.174923  \n",
       "\n",
       "[2500 rows x 15 columns]"
      ],
      "text/html": [
       "<div>\n",
       "<style scoped>\n",
       "    .dataframe tbody tr th:only-of-type {\n",
       "        vertical-align: middle;\n",
       "    }\n",
       "\n",
       "    .dataframe tbody tr th {\n",
       "        vertical-align: top;\n",
       "    }\n",
       "\n",
       "    .dataframe thead th {\n",
       "        text-align: right;\n",
       "    }\n",
       "</style>\n",
       "<table border=\"1\" class=\"dataframe\">\n",
       "  <thead>\n",
       "    <tr style=\"text-align: right;\">\n",
       "      <th></th>\n",
       "      <th>x1</th>\n",
       "      <th>y1</th>\n",
       "      <th>x2</th>\n",
       "      <th>y2</th>\n",
       "      <th>vx1</th>\n",
       "      <th>vy1</th>\n",
       "      <th>vx2</th>\n",
       "      <th>vy2</th>\n",
       "      <th>m1</th>\n",
       "      <th>m2</th>\n",
       "      <th>t</th>\n",
       "      <th>x1t</th>\n",
       "      <th>y1t</th>\n",
       "      <th>x2t</th>\n",
       "      <th>y2t</th>\n",
       "    </tr>\n",
       "  </thead>\n",
       "  <tbody>\n",
       "    <tr>\n",
       "      <th>0</th>\n",
       "      <td>-3.176733</td>\n",
       "      <td>3.528593</td>\n",
       "      <td>-2.610199</td>\n",
       "      <td>3.788649</td>\n",
       "      <td>0.772774</td>\n",
       "      <td>-0.648439</td>\n",
       "      <td>-0.256070</td>\n",
       "      <td>-1.076265</td>\n",
       "      <td>1.712414</td>\n",
       "      <td>7.187212</td>\n",
       "      <td>1.153233</td>\n",
       "      <td>-3.578844</td>\n",
       "      <td>2.300292</td>\n",
       "      <td>-2.597367</td>\n",
       "      <td>2.661948</td>\n",
       "    </tr>\n",
       "    <tr>\n",
       "      <th>1</th>\n",
       "      <td>2.167688</td>\n",
       "      <td>4.112799</td>\n",
       "      <td>2.665590</td>\n",
       "      <td>4.543015</td>\n",
       "      <td>-0.172910</td>\n",
       "      <td>1.679364</td>\n",
       "      <td>-0.312903</td>\n",
       "      <td>-0.006687</td>\n",
       "      <td>4.355681</td>\n",
       "      <td>3.867865</td>\n",
       "      <td>1.070974</td>\n",
       "      <td>2.410551</td>\n",
       "      <td>5.742077</td>\n",
       "      <td>1.848447</td>\n",
       "      <td>4.726480</td>\n",
       "    </tr>\n",
       "    <tr>\n",
       "      <th>2</th>\n",
       "      <td>-2.420104</td>\n",
       "      <td>2.364522</td>\n",
       "      <td>-3.190365</td>\n",
       "      <td>2.433420</td>\n",
       "      <td>-1.317729</td>\n",
       "      <td>0.420177</td>\n",
       "      <td>-0.306607</td>\n",
       "      <td>0.744809</td>\n",
       "      <td>3.566654</td>\n",
       "      <td>2.207301</td>\n",
       "      <td>0.955736</td>\n",
       "      <td>-3.665794</td>\n",
       "      <td>3.099544</td>\n",
       "      <td>-3.505555</td>\n",
       "      <td>2.606468</td>\n",
       "    </tr>\n",
       "    <tr>\n",
       "      <th>3</th>\n",
       "      <td>-1.257329</td>\n",
       "      <td>4.287604</td>\n",
       "      <td>-1.711570</td>\n",
       "      <td>3.929707</td>\n",
       "      <td>-0.134418</td>\n",
       "      <td>-0.400667</td>\n",
       "      <td>-0.171217</td>\n",
       "      <td>1.628397</td>\n",
       "      <td>5.834528</td>\n",
       "      <td>8.010840</td>\n",
       "      <td>0.799889</td>\n",
       "      <td>-1.910788</td>\n",
       "      <td>4.180594</td>\n",
       "      <td>-1.450901</td>\n",
       "      <td>5.076762</td>\n",
       "    </tr>\n",
       "    <tr>\n",
       "      <th>4</th>\n",
       "      <td>4.625560</td>\n",
       "      <td>3.907505</td>\n",
       "      <td>4.547057</td>\n",
       "      <td>3.792817</td>\n",
       "      <td>-3.583283</td>\n",
       "      <td>0.288738</td>\n",
       "      <td>2.799466</td>\n",
       "      <td>-2.138203</td>\n",
       "      <td>9.186412</td>\n",
       "      <td>3.890987</td>\n",
       "      <td>0.832242</td>\n",
       "      <td>1.768514</td>\n",
       "      <td>3.798873</td>\n",
       "      <td>6.581505</td>\n",
       "      <td>2.837125</td>\n",
       "    </tr>\n",
       "    <tr>\n",
       "      <th>...</th>\n",
       "      <td>...</td>\n",
       "      <td>...</td>\n",
       "      <td>...</td>\n",
       "      <td>...</td>\n",
       "      <td>...</td>\n",
       "      <td>...</td>\n",
       "      <td>...</td>\n",
       "      <td>...</td>\n",
       "      <td>...</td>\n",
       "      <td>...</td>\n",
       "      <td>...</td>\n",
       "      <td>...</td>\n",
       "      <td>...</td>\n",
       "      <td>...</td>\n",
       "      <td>...</td>\n",
       "    </tr>\n",
       "    <tr>\n",
       "      <th>2495</th>\n",
       "      <td>3.793990</td>\n",
       "      <td>-0.683665</td>\n",
       "      <td>3.909196</td>\n",
       "      <td>-0.681814</td>\n",
       "      <td>-2.179585</td>\n",
       "      <td>-3.540163</td>\n",
       "      <td>0.868672</td>\n",
       "      <td>2.338623</td>\n",
       "      <td>5.522041</td>\n",
       "      <td>8.005375</td>\n",
       "      <td>2.230184</td>\n",
       "      <td>0.533154</td>\n",
       "      <td>-7.486158</td>\n",
       "      <td>4.742800</td>\n",
       "      <td>3.779995</td>\n",
       "    </tr>\n",
       "    <tr>\n",
       "      <th>2496</th>\n",
       "      <td>3.651169</td>\n",
       "      <td>4.267634</td>\n",
       "      <td>3.214102</td>\n",
       "      <td>4.213653</td>\n",
       "      <td>1.981248</td>\n",
       "      <td>0.760529</td>\n",
       "      <td>-1.423569</td>\n",
       "      <td>0.613922</td>\n",
       "      <td>5.095318</td>\n",
       "      <td>4.897024</td>\n",
       "      <td>1.828028</td>\n",
       "      <td>6.937009</td>\n",
       "      <td>5.628444</td>\n",
       "      <td>0.961318</td>\n",
       "      <td>5.366571</td>\n",
       "    </tr>\n",
       "    <tr>\n",
       "      <th>2497</th>\n",
       "      <td>1.333321</td>\n",
       "      <td>4.243540</td>\n",
       "      <td>1.170640</td>\n",
       "      <td>4.419923</td>\n",
       "      <td>-2.314506</td>\n",
       "      <td>-1.599802</td>\n",
       "      <td>1.300827</td>\n",
       "      <td>1.995690</td>\n",
       "      <td>2.581490</td>\n",
       "      <td>7.918808</td>\n",
       "      <td>1.822104</td>\n",
       "      <td>-2.854822</td>\n",
       "      <td>2.401683</td>\n",
       "      <td>3.531387</td>\n",
       "      <td>7.706436</td>\n",
       "    </tr>\n",
       "    <tr>\n",
       "      <th>2498</th>\n",
       "      <td>-0.844709</td>\n",
       "      <td>-1.040528</td>\n",
       "      <td>-1.023720</td>\n",
       "      <td>-1.801638</td>\n",
       "      <td>-1.011888</td>\n",
       "      <td>0.632039</td>\n",
       "      <td>1.409342</td>\n",
       "      <td>0.181507</td>\n",
       "      <td>8.697421</td>\n",
       "      <td>5.127894</td>\n",
       "      <td>2.787155</td>\n",
       "      <td>-3.361706</td>\n",
       "      <td>0.183761</td>\n",
       "      <td>2.389921</td>\n",
       "      <td>-0.384433</td>\n",
       "    </tr>\n",
       "    <tr>\n",
       "      <th>2499</th>\n",
       "      <td>0.773314</td>\n",
       "      <td>-1.134915</td>\n",
       "      <td>0.750336</td>\n",
       "      <td>-1.354881</td>\n",
       "      <td>1.730950</td>\n",
       "      <td>-2.423179</td>\n",
       "      <td>-2.500138</td>\n",
       "      <td>0.276430</td>\n",
       "      <td>6.470337</td>\n",
       "      <td>9.827397</td>\n",
       "      <td>2.301928</td>\n",
       "      <td>2.156184</td>\n",
       "      <td>-7.538594</td>\n",
       "      <td>-3.291881</td>\n",
       "      <td>-0.174923</td>\n",
       "    </tr>\n",
       "  </tbody>\n",
       "</table>\n",
       "<p>2500 rows × 15 columns</p>\n",
       "</div>"
      ]
     },
     "execution_count": 9,
     "metadata": {},
     "output_type": "execute_result"
    }
   ],
   "execution_count": 9
  },
  {
   "metadata": {
    "ExecuteTime": {
     "end_time": "2025-05-21T04:18:44.838893Z",
     "start_time": "2025-05-21T04:18:44.556572Z"
    }
   },
   "cell_type": "code",
   "source": [
    "from sklearn.model_selection import train_test_split\n",
    "train, test = train_test_split(data, test_size=0.2) #train test split"
   ],
   "id": "8945b62c24e6df46",
   "outputs": [],
   "execution_count": 10
  },
  {
   "metadata": {
    "ExecuteTime": {
     "end_time": "2025-05-21T04:18:47.596774Z",
     "start_time": "2025-05-21T04:18:44.890704Z"
    }
   },
   "cell_type": "code",
   "source": [
    "import torch\n",
    "import torch.nn as nn\n",
    "import torch.optim as optim\n",
    "device = torch.device('cuda' if torch.cuda.is_available() else 'cpu')"
   ],
   "id": "c647e8fcb6f7f565",
   "outputs": [],
   "execution_count": 11
  },
  {
   "metadata": {
    "ExecuteTime": {
     "end_time": "2025-05-21T04:18:47.801590Z",
     "start_time": "2025-05-21T04:18:47.647195Z"
    }
   },
   "cell_type": "code",
   "source": [
    "X_train = train.iloc[:, :11].values\n",
    "tX_train = torch.tensor(X_train, dtype=torch.float32, requires_grad=True).to(device) # requires grad is true since we need derivatives to calculate during ode loss\n",
    "print(tX_train)"
   ],
   "id": "cbd939dd086609bb",
   "outputs": [
    {
     "name": "stdout",
     "output_type": "stream",
     "text": [
      "tensor([[-0.6799, -3.3914, -0.7734,  ...,  3.3876,  7.2642,  1.3459],\n",
      "        [-0.8140,  2.0980, -1.2272,  ...,  1.3933,  7.9688,  0.8043],\n",
      "        [ 3.6512,  4.2676,  3.2141,  ...,  5.0953,  4.8970,  0.8581],\n",
      "        ...,\n",
      "        [-3.1767,  3.5286, -2.6102,  ...,  1.7124,  7.1872,  2.3641],\n",
      "        [-2.3899, -3.7789, -2.3679,  ...,  5.4282,  9.3525,  0.1186],\n",
      "        [-1.5673,  0.4944, -2.1847,  ...,  5.3949,  4.5337,  0.1732]],\n",
      "       device='cuda:0', grad_fn=<ToCopyBackward0>)\n"
     ]
    }
   ],
   "execution_count": 12
  },
  {
   "metadata": {
    "ExecuteTime": {
     "end_time": "2025-05-21T04:18:47.879663Z",
     "start_time": "2025-05-21T04:18:47.875879Z"
    }
   },
   "cell_type": "code",
   "source": [
    "y_train = train.iloc[:, 11:].values\n",
    "ty_train = torch.from_numpy(y_train).to(device).float()\n",
    "print(ty_train)"
   ],
   "id": "7626295725bf8cbf",
   "outputs": [
    {
     "name": "stdout",
     "output_type": "stream",
     "text": [
      "tensor([[-0.3838, -2.9977, -0.7560, -2.0603],\n",
      "        [-1.0765,  2.0031, -0.5222,  1.4563],\n",
      "        [ 5.2174,  4.9079,  2.1318,  4.7533],\n",
      "        ...,\n",
      "        [-4.0607,  0.9203, -2.5697,  1.5004],\n",
      "        [-2.4598, -4.6618, -1.6900, -3.2669],\n",
      "        [-1.4758,  0.2591, -2.3613, -0.0713]], device='cuda:0')\n"
     ]
    }
   ],
   "execution_count": 13
  },
  {
   "metadata": {
    "ExecuteTime": {
     "end_time": "2025-05-21T04:18:47.940952Z",
     "start_time": "2025-05-21T04:18:47.937044Z"
    }
   },
   "cell_type": "code",
   "source": [
    "X_test = test.iloc[:,:11].values\n",
    "tX_test = torch.tensor(X_test, dtype=torch.float32, requires_grad=True).to(device)\n",
    "y_test = test.iloc[:,11:].values\n",
    "ty_test = torch.tensor(y_test, dtype=torch.float32).to(device)"
   ],
   "id": "e8177357967ac312",
   "outputs": [],
   "execution_count": 14
  },
  {
   "metadata": {},
   "cell_type": "markdown",
   "source": [
    "**Creating Neural Network** <br>\n",
    "Activation function is chosen to be tanh since its double derivative is not zero (required for ode loss) unlike relu whose double derivative is zero."
   ],
   "id": "22e16c934cf9c914"
  },
  {
   "metadata": {
    "ExecuteTime": {
     "end_time": "2025-05-21T04:18:48.024642Z",
     "start_time": "2025-05-21T04:18:48.018578Z"
    }
   },
   "cell_type": "code",
   "source": [
    "class PINN(nn.Module):\n",
    "    def __init__(self, input_dim, output_dim, n_units=100) -> None:\n",
    "        super().__init__()\n",
    "        self.layers = nn.Sequential(\n",
    "            nn.Linear(input_dim, n_units),\n",
    "            nn.Tanh(),\n",
    "            nn.Linear(n_units, 2*n_units),\n",
    "            nn.Tanh(),\n",
    "            nn.Linear(2*n_units, 2*n_units),\n",
    "            nn.Tanh(),\n",
    "            nn.Linear(2*n_units, 2*n_units),\n",
    "            nn.Tanh(),\n",
    "            nn.Linear(2*n_units, 2*n_units),\n",
    "            nn.Tanh(),\n",
    "            nn.Linear(2*n_units, n_units),\n",
    "            nn.Tanh(),\n",
    "        )\n",
    "        self.out = nn.Linear(n_units, output_dim)\n",
    "\n",
    "    def forward(self, x):\n",
    "        h = self.layers(x)\n",
    "        out = self.out(h)\n",
    "        return out\n",
    "\n",
    "    # ode loss fn\n",
    "    def phy_loss(self, X):\n",
    "        # separating t since we only need derivative wrt t\n",
    "        t = X[:, 10].unsqueeze(1).requires_grad_(True)\n",
    "        outputs = self.forward(torch.cat([X[:,:10], t], dim=1))\n",
    "\n",
    "        x1t = outputs[:, 0].unsqueeze(1)\n",
    "        y1t = outputs[:, 1].unsqueeze(1)\n",
    "        x2t = outputs[:, 2].unsqueeze(1)\n",
    "        y2t = outputs[:, 3].unsqueeze(1)\n",
    "\n",
    "        # reverting to SI units\n",
    "        m1 = 10*X[:, 8].unsqueeze(1)\n",
    "        m2 = 10*X[:, 9].unsqueeze(1)\n",
    "\n",
    "        # first derivatives wrt t, i.e., d/dt\n",
    "        x1t_dot = torch.autograd.grad(x1t, t, grad_outputs=torch.ones_like(x1t), create_graph=True,  retain_graph=True)[0]\n",
    "        x2t_dot = torch.autograd.grad(x2t, t, grad_outputs=torch.ones_like(x2t), create_graph=True,  retain_graph=True)[0]\n",
    "        y1t_dot = torch.autograd.grad(y1t, t, grad_outputs=torch.ones_like(y1t), create_graph=True,  retain_graph=True)[0]\n",
    "        y2t_dot = torch.autograd.grad(y2t, t, grad_outputs=torch.ones_like(y2t), create_graph=True,  retain_graph=True)[0]\n",
    "\n",
    "        # double derivatives wrt t, i.e., d2/dt2\n",
    "        # multiplying by 1e-8 to convert to SI units\n",
    "        x1t_ddot = 1e-8*torch.autograd.grad(x1t_dot, t, grad_outputs=torch.ones_like(x1t), retain_graph=True)[0]\n",
    "        y1t_ddot = 1e-8*torch.autograd.grad(y1t_dot, t, grad_outputs=torch.ones_like(y1t), retain_graph=True)[0]\n",
    "        x2t_ddot = 1e-8*torch.autograd.grad(x2t_dot, t, grad_outputs=torch.ones_like(x2t), retain_graph=True)[0]\n",
    "        y2t_ddot = 1e-8*torch.autograd.grad(y2t_dot, t, grad_outputs=torch.ones_like(y2t), retain_graph=True)[0]\n",
    "\n",
    "        dx = x2t - x1t\n",
    "        dy = y2t - y1t\n",
    "        r = torch.sqrt(dx**2 + dy**2 + 1e-6)  # added 1e-6 to avoid division by zero\n",
    "        # self.x1t_ddot = x1t_ddot\n",
    "\n",
    "        # calculating expected accelerations of bodies\n",
    "        ax1 = G * m2 * dx / r**3\n",
    "        ay1 = G * m2 * dy / r**3\n",
    "        # self.ax1 = ax1\n",
    "        ax2 = G * m1 * (-dx) / r**3\n",
    "        ay2 = G * m1 * (-dy) / r**3\n",
    "\n",
    "        # calculating ode loss\n",
    "        loss_x1 = torch.mean(torch.abs(x1t_ddot - ax1))\n",
    "        loss_y1 = torch.mean(torch.abs(y1t_ddot - ay1))\n",
    "        loss_x2 = torch.mean(torch.abs(x2t_ddot - ax2))\n",
    "        loss_y2 = torch.mean(torch.abs(y2t_ddot - ay2))\n",
    "\n",
    "        total_loss = (loss_x1 + loss_y1 + loss_x2 + loss_y2)/4\n",
    "        return total_loss/G # divided by G since total_loss is negligible wrt mse loss."
   ],
   "id": "2810a335412f67f",
   "outputs": [],
   "execution_count": 15
  },
  {
   "metadata": {},
   "cell_type": "markdown",
   "source": "Creating batches for training",
   "id": "fc598e6d272443ee"
  },
  {
   "metadata": {
    "ExecuteTime": {
     "end_time": "2025-05-21T04:18:48.108252Z",
     "start_time": "2025-05-21T04:18:48.104740Z"
    }
   },
   "cell_type": "code",
   "source": [
    "from torch.utils.data import TensorDataset, DataLoader\n",
    "batch_size = 64\n",
    "dataset = TensorDataset(tX_train, ty_train)\n",
    "dataloader = DataLoader(dataset, batch_size=batch_size, shuffle=True)"
   ],
   "id": "f3403e395ec1f150",
   "outputs": [],
   "execution_count": 16
  },
  {
   "metadata": {},
   "cell_type": "markdown",
   "source": "Initializing model",
   "id": "6068ca17e36eae76"
  },
  {
   "metadata": {
    "ExecuteTime": {
     "end_time": "2025-05-21T04:18:49.092765Z",
     "start_time": "2025-05-21T04:18:48.177317Z"
    }
   },
   "cell_type": "code",
   "source": [
    "# Create instance of model\n",
    "model = PINN(input_dim=11, output_dim=4, n_units=128).to(device)\n",
    "optimizer = optim.Adam(model.parameters(), lr=1e-6)"
   ],
   "id": "39910b27e1ef3604",
   "outputs": [],
   "execution_count": 17
  },
  {
   "metadata": {},
   "cell_type": "markdown",
   "source": "Training model",
   "id": "5df1ae21fc4aafb9"
  },
  {
   "metadata": {
    "ExecuteTime": {
     "end_time": "2025-05-21T04:23:27.504327Z",
     "start_time": "2025-05-21T04:18:49.129426Z"
    }
   },
   "cell_type": "code",
   "source": [
    "loss = []\n",
    "epochs = 1000\n",
    "for epoch in range(epochs):\n",
    "    for batch_X, batch_y in dataloader:\n",
    "        batch_X = batch_X.to(device)\n",
    "        batch_y = batch_y.to(device)\n",
    "\n",
    "        # forward propagation\n",
    "        outputs = model.forward(batch_X)\n",
    "\n",
    "        # mse loss\n",
    "        data_loss = nn.functional.mse_loss(outputs, batch_y)\n",
    "\n",
    "        # ode loss\n",
    "        physics_loss = model.phy_loss(batch_X)\n",
    "\n",
    "        # Total loss\n",
    "        total_loss = data_loss + physics_loss\n",
    "        # Backpropagation\n",
    "        optimizer.zero_grad()\n",
    "        total_loss.backward()\n",
    "        nn.utils.clip_grad_norm_(model.parameters(), max_norm=2.0) # preventing exploding gradient issue\n",
    "        optimizer.step()\n",
    "    loss.append(total_loss.item())\n",
    "    if epoch % 100 == 0:\n",
    "        print(f\"Epoch {epoch}, Total Loss: {total_loss.item():.4}\")\n",
    "        print('ODE Loss:', physics_loss.item())"
   ],
   "id": "fee9d5894cd1fead",
   "outputs": [
    {
     "name": "stdout",
     "output_type": "stream",
     "text": [
      "Epoch 0, Total Loss: 687.4\n",
      "ODE Loss: 669.8663330078125\n",
      "Epoch 100, Total Loss: 22.03\n",
      "ODE Loss: 1.7828716039657593\n",
      "Epoch 200, Total Loss: 14.14\n",
      "ODE Loss: 2.470332622528076\n",
      "Epoch 300, Total Loss: 12.07\n",
      "ODE Loss: 3.250096321105957\n",
      "Epoch 400, Total Loss: 7.006\n",
      "ODE Loss: 3.050577163696289\n",
      "Epoch 500, Total Loss: 19.24\n",
      "ODE Loss: 3.436204195022583\n",
      "Epoch 600, Total Loss: 8.013\n",
      "ODE Loss: 3.768918752670288\n",
      "Epoch 700, Total Loss: 7.033\n",
      "ODE Loss: 3.3807291984558105\n",
      "Epoch 800, Total Loss: 7.158\n",
      "ODE Loss: 4.440489768981934\n",
      "Epoch 900, Total Loss: 7.87\n",
      "ODE Loss: 3.6762232780456543\n"
     ]
    }
   ],
   "execution_count": 18
  },
  {
   "metadata": {},
   "cell_type": "markdown",
   "source": "Visualizing loss curve",
   "id": "1c7868b9a5a67f80"
  },
  {
   "metadata": {
    "ExecuteTime": {
     "end_time": "2025-05-21T04:23:27.903496Z",
     "start_time": "2025-05-21T04:23:27.546185Z"
    }
   },
   "cell_type": "code",
   "source": [
    "plt.title('Loss vs Epochs')\n",
    "plt.plot(loss)\n",
    "plt.xlabel('Epochs')\n",
    "plt.ylabel('Loss')\n",
    "plt.yscale('log')"
   ],
   "id": "130528caabc1ebc7",
   "outputs": [
    {
     "data": {
      "text/plain": [
       "<Figure size 640x480 with 1 Axes>"
      ],
      "image/png": "[encoded data removed]"
     },
     "metadata": {},
     "output_type": "display_data"
    }
   ],
   "execution_count": 19
  },
  {
   "metadata": {},
   "cell_type": "markdown",
   "source": "MAE over train data",
   "id": "36a0ae4195944f16"
  },
  {
   "metadata": {
    "ExecuteTime": {
     "end_time": "2025-05-21T04:23:27.953765Z",
     "start_time": "2025-05-21T04:23:27.950662Z"
    }
   },
   "cell_type": "code",
   "source": [
    "y_hypo = model.forward(tX_train)\n",
    "print(torch.mean(torch.abs(y_hypo - ty_train)))"
   ],
   "id": "a7fd1078f91f55d4",
   "outputs": [
    {
     "name": "stdout",
     "output_type": "stream",
     "text": [
      "tensor(1.6319, device='cuda:0', grad_fn=<MeanBackward0>)\n"
     ]
    }
   ],
   "execution_count": 20
  },
  {
   "metadata": {},
   "cell_type": "markdown",
   "source": "MAE over test data",
   "id": "ee79107b54380895"
  },
  {
   "metadata": {
    "ExecuteTime": {
     "end_time": "2025-05-21T04:23:28.043727Z",
     "start_time": "2025-05-21T04:23:28.039889Z"
    }
   },
   "cell_type": "code",
   "source": [
    "y_hypo_test = model.forward(tX_test)\n",
    "print('MAE over test data: ', torch.mean(torch.abs(ty_test - y_hypo_test)).item())"
   ],
   "id": "601de2ff23b763ca",
   "outputs": [
    {
     "name": "stdout",
     "output_type": "stream",
     "text": [
      "MAE over test data:  1.6045506000518799\n"
     ]
    }
   ],
   "execution_count": 21
  },
  {
   "metadata": {},
   "cell_type": "markdown",
   "source": "Mean ODE residual over test data",
   "id": "10a126f22b0d60eb"
  },
  {
   "metadata": {
    "ExecuteTime": {
     "end_time": "2025-05-21T04:23:28.135681Z",
     "start_time": "2025-05-21T04:23:28.128446Z"
    }
   },
   "cell_type": "code",
   "source": [
    "odeloss = model.phy_loss(tX_test)\n",
    "print('Mean ODE residual: ', odeloss.item())"
   ],
   "id": "460020f67f406065",
   "outputs": [
    {
     "name": "stdout",
     "output_type": "stream",
     "text": [
      "Mean ODE residual:  4.5383381843566895\n"
     ]
    }
   ],
   "execution_count": 22
  },
  {
   "metadata": {},
   "cell_type": "markdown",
   "source": [
    "**Run for a given input**<br>\n",
    "Recommended to use range of variables as used in dataset <br>\n",
    "1. Masses: between 1 and 10 <br>\n",
    "2. velocity components: each between +- 0.4 and 4\n",
    "3. position components: each between -5 to 5\n",
    "4. time: around 1\n",
    "<br>\n"
   ],
   "id": "6e9a6d53ce8963dc"
  },
  {
   "metadata": {
    "ExecuteTime": {
     "end_time": "2025-05-21T04:37:01.885746Z",
     "start_time": "2025-05-21T04:35:56.752978Z"
    }
   },
   "cell_type": "code",
   "source": [
    "m1 = float(input('Enter mass of body 1: '))\n",
    "m2 = float(input('Enter mass of body 2: '))\n",
    "vx1 = float(input('Enter vx of body 1: '))\n",
    "vy1 = float(input('Enter vy of body 1: '))\n",
    "vx2 = float(input('Enter vx of body 2: '))\n",
    "vy2 = float(input('Enter vy of body 2: '))\n",
    "x1 = float(input('Enter x of body 1: '))\n",
    "y1 = float(input('Enter y of body 1: '))\n",
    "x2 = float(input('Enter x of body 2: '))\n",
    "y2 = float(input('Enter y of body 2: '))\n",
    "t = float(input('Enter time: '))"
   ],
   "id": "17a21dd56e79891f",
   "outputs": [],
   "execution_count": 23
  },
  {
   "metadata": {},
   "cell_type": "markdown",
   "source": "Generating actual trajectory:",
   "id": "69f43ae8fa429e5"
  },
  {
   "metadata": {
    "ExecuteTime": {
     "end_time": "2025-05-21T04:37:30.482418Z",
     "start_time": "2025-05-21T04:37:30.472486Z"
    }
   },
   "cell_type": "code",
   "source": [
    "state_0 = np.array([x1, y1, x2, y2, 1e-4*vx1, 1e-4*vy1, 1e-4*vx2, 1e-4*vy2])\n",
    "t_l = np.linspace(0, t, 50)*1e4\n",
    "m1 = 10*m1\n",
    "m2 = 10*m2\n",
    "sol = odeint(twobp, state_0, t_l, args=(m1, m2))\n",
    "\n",
    "state_t = sol[:,0:4]"
   ],
   "id": "b6d1be84a63c0b38",
   "outputs": [],
   "execution_count": 25
  },
  {
   "metadata": {},
   "cell_type": "markdown",
   "source": "Predicting trajectory",
   "id": "1ac1b07c066e673f"
  },
  {
   "metadata": {
    "ExecuteTime": {
     "end_time": "2025-05-21T04:41:30.903645Z",
     "start_time": "2025-05-21T04:41:30.890564Z"
    }
   },
   "cell_type": "code",
   "source": [
    "state = np.array([x1, y1, x2, y2, 1e-4*vx1, 1e-4*vy1, 1e-4*vx2, 1e-4*vy2, 10*m1, 10*m2])\n",
    "t_t = np.linspace(0, t, 50)\n",
    "t_t = torch.tensor(t_t, dtype=torch.float32, requires_grad=True).to(device)\n",
    "t_t = t_t.unsqueeze(1)\n",
    "tstate = torch.tensor(state, dtype=torch.float32, requires_grad=True).to(device)\n",
    "tstate = tstate.repeat(50, 1)\n",
    "X_in = torch.cat([tstate, t_t], dim=1)\n",
    "outputs = model.forward(X_in)"
   ],
   "id": "e382cb36285ded14",
   "outputs": [],
   "execution_count": 32
  },
  {
   "metadata": {},
   "cell_type": "markdown",
   "source": "MAE:",
   "id": "be5c8da37ca4fb30"
  },
  {
   "metadata": {
    "ExecuteTime": {
     "end_time": "2025-05-21T04:41:33.256831Z",
     "start_time": "2025-05-21T04:41:33.251446Z"
    }
   },
   "cell_type": "code",
   "source": [
    "outputs = outputs.detach().cpu().numpy()\n",
    "mae_in = np.mean(np.abs(outputs - state_t))\n",
    "print('MAE over input: ',mae_in)"
   ],
   "id": "1cdd9863ea6dd6e3",
   "outputs": [
    {
     "name": "stdout",
     "output_type": "stream",
     "text": [
      "MAE over input:  1.8737701114647516\n"
     ]
    }
   ],
   "execution_count": 33
  },
  {
   "metadata": {},
   "cell_type": "markdown",
   "source": "Mean ODE residual:",
   "id": "52f29c660bba2757"
  },
  {
   "metadata": {
    "ExecuteTime": {
     "end_time": "2025-05-21T04:39:31.970437Z",
     "start_time": "2025-05-21T04:39:31.960816Z"
    }
   },
   "cell_type": "code",
   "source": [
    "odeloss_in = model.phy_loss(X_in)\n",
    "print('Mean ODE residual over input: ', odeloss_in.item())"
   ],
   "id": "777638d123d385de",
   "outputs": [
    {
     "name": "stdout",
     "output_type": "stream",
     "text": [
      "Mean ODE residual over input:  222.62741088867188\n"
     ]
    }
   ],
   "execution_count": 30
  }
 ],
 "metadata": {
  "kernelspec": {
   "display_name": "Python 3",
   "language": "python",
   "name": "python3"
  },
  "language_info": {
   "codemirror_mode": {
    "name": "ipython",
    "version": 2
   },
   "file_extension": ".py",
   "mimetype": "text/x-python",
   "name": "python",
   "nbconvert_exporter": "python",
   "pygments_lexer": "ipython2",
   "version": "2.7.6"
  }
 },
 "nbformat": 4,
 "nbformat_minor": 5
}
