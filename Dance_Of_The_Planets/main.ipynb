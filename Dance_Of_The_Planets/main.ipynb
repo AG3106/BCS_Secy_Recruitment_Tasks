{
 "cells": [
  {
   "metadata": {},
   "cell_type": "markdown",
   "source": "# The Dance of The Planets",
   "id": "3d283865d976fba7"
  },
  {
   "metadata": {},
   "cell_type": "markdown",
   "source": "Importing libraries",
   "id": "5b010bfa790c576d"
  },
  {
   "metadata": {
    "ExecuteTime": {
     "end_time": "2025-05-20T21:18:30.541764Z",
     "start_time": "2025-05-20T21:18:30.538864Z"
    }
   },
   "cell_type": "code",
   "source": [
    "import numpy as np\n",
    "import matplotlib.pyplot as plt\n",
    "import pandas as pd\n",
    "from scipy.integrate import odeint\n",
    "import pandas\n",
    "\n",
    "G = 6.67430e-11 #gravitational constant"
   ],
   "id": "e1472cd4bceaad2c",
   "outputs": [],
   "execution_count": 49
  },
  {
   "metadata": {},
   "cell_type": "markdown",
   "source": "Differential equation for two body problem:",
   "id": "2e7d831ad17d567c"
  },
  {
   "metadata": {
    "ExecuteTime": {
     "end_time": "2025-05-20T21:18:30.652668Z",
     "start_time": "2025-05-20T21:18:30.650070Z"
    }
   },
   "cell_type": "code",
   "source": [
    "def twobp(state, t, m1, m2):\n",
    "\n",
    "    x1, y1, x2, y2, vx1, vy1, vx2, vy2 = state\n",
    "\n",
    "    dx = x2 - x1\n",
    "    dy = y2 - y1\n",
    "    r = np.sqrt(dx**2 + dy**2)\n",
    "    if r < 1e-5: #in case of error division by zero\n",
    "        r = 1e-5\n",
    "    r3 = r**3\n",
    "\n",
    "    ax1 = G * m2 * dx / r3\n",
    "    ay1 = G * m2 * dy / r3\n",
    "    ax2 = -G * m1 * dx / r3\n",
    "    ay2 = -G * m1 * dy / r3\n",
    "\n",
    "    state_dot = [vx1, vy1, vx2, vy2, ax1, ay1, ax2, ay2]\n",
    "    return np.array(state_dot)"
   ],
   "id": "7918bbe7ebb5e17e",
   "outputs": [],
   "execution_count": 50
  },
  {
   "metadata": {},
   "cell_type": "markdown",
   "source": [
    "**Generating Dataset:** <br>\n",
    "An important consideration while generating data was to consider real world proportionality.\n",
    "Like while generating distance between two bodies for all generations it is to be considered that gravitational force won't be negligible.\n",
    "For velocity it should be considered that for all generations it should not be too higher than escape velocity. For time should also be not quite small as well as large.\n",
    "<br>\n",
    "Hence, while generating data this all were taken under consideration. <br>\n",
    "Masses were taken in range of 10 to 100.\n",
    "For r in range of 0 to 1 gravitational force is not negligible.\n",
    "Velocities were taken in proportion to their escape velocities.\n",
    "Time was taken in proportion to time period."
   ],
   "id": "d8c78b060a0ecb"
  },
  {
   "metadata": {},
   "cell_type": "markdown",
   "source": "Currently only one time stamp is generated for each state, but to get time dependence for each body, we will duplicate the data and add multiple time stamps for same state.",
   "id": "4b205406fd18afc1"
  },
  {
   "metadata": {
    "ExecuteTime": {
     "end_time": "2025-05-20T21:18:30.753176Z",
     "start_time": "2025-05-20T21:18:30.749568Z"
    }
   },
   "cell_type": "code",
   "source": [
    "m1_data = np.random.uniform(10, 100, 50)\n",
    "m2_data = np.random.uniform(10, 100, 50)\n",
    "r_data =  np.random.uniform(0, 1, size=m1_data.shape)\n",
    "v1_data = np.sqrt((G * (m1_data + m2_data) / r_data) * np.random.uniform(0, 4, size=m1_data.shape)) # escape velocity = sqrt(2*G*m/r)\n",
    "v2_data = np.sqrt((G * (m1_data + m2_data) / r_data) * np.random.uniform(0, 4, size=m1_data.shape))\n",
    "x1_data = np.random.uniform(-5, 5, size=m1_data.shape)\n",
    "y1_data = np.random.uniform(-5, 5, size=m1_data.shape)\n",
    "thetar_data =  np.random.uniform(0, 2 * np.pi, size=m1_data.shape) # theta is generated to divide into x and y components\n",
    "x2_data = x1_data + r_data * np.cos(thetar_data)\n",
    "y2_data = y1_data + r_data * np.sin(thetar_data)\n",
    "theta1_data= np.random.uniform(0, 2 * np.pi, size=m1_data.shape)\n",
    "vx1_data = v1_data * np.cos(theta1_data)\n",
    "vy1_data = v1_data * np.sin(theta1_data)\n",
    "theta2_data = np.random.uniform(0, 2 * np.pi, size=m1_data.shape)\n",
    "vx2_data = v2_data * np.cos(theta2_data)\n",
    "vy2_data = v2_data * np.sin(theta2_data)\n",
    "t_data = np.sqrt( 1e-2/G*np.ones_like(m1_data))*np.random.uniform(0.5,1,50) # time period = sqrt(r3/GM)"
   ],
   "id": "e9e2500c4daaf73b",
   "outputs": [],
   "execution_count": 51
  },
  {
   "metadata": {},
   "cell_type": "markdown",
   "source": "Converting data generated into dataframe and duplicating states.",
   "id": "55e0c5b38a4989d"
  },
  {
   "metadata": {
    "ExecuteTime": {
     "end_time": "2025-05-20T21:18:30.812700Z",
     "start_time": "2025-05-20T21:18:30.808874Z"
    }
   },
   "cell_type": "code",
   "source": [
    "data = {'x1': x1_data, 'y1': y1_data, 'x2': x2_data, 'y2': y2_data, 'vx1': vx1_data, 'vy1': vy1_data, 'vx2': vx2_data, 'vy2': vy2_data, 'm1': m1_data, 'm2': m2_data}\n",
    "data = pandas.DataFrame(data)\n",
    "data = pd.concat([data]*50, ignore_index=True)\n",
    "t_data_f = t_data.copy()\n",
    "for i in range(49):\n",
    "    t_data_f = np.append(t_data_f, t_data*(i+1)*0.05)\n",
    "data['t'] = t_data_f"
   ],
   "id": "21cdad5f0695d1ac",
   "outputs": [],
   "execution_count": 52
  },
  {
   "metadata": {},
   "cell_type": "markdown",
   "source": [
    " One issue is the order of data. In SI units (currently used), the difference in order of data is quite large. To solve this issue a simple solution is to change units during propagation through neural network. <br>\n",
    " Hence, the changes are: <br>\n",
    " 1. Masses: 1 unit  = 10 kg.\n",
    " 2. time: 1 unit = 1e4 s.\n",
    " <br>\n",
    " This leads to velocity unit being 1 unit = 1e-4 m/s and acceleration being 1 unit = 1e-8 m/s."
   ],
   "id": "ac9d9f89e01c086c"
  },
  {
   "metadata": {
    "ExecuteTime": {
     "end_time": "2025-05-20T21:18:30.917753Z",
     "start_time": "2025-05-20T21:18:30.914548Z"
    }
   },
   "cell_type": "code",
   "source": [
    "data['vx1'] = 1e4*data['vx1']\n",
    "data['vy1'] = 1e4*data['vy1']\n",
    "data['vx2'] = 1e4*data['vx2']\n",
    "data['vy2'] = 1e4*data['vy2']\n",
    "data['m1'] = 1e-1*data['m1']\n",
    "data['m2'] = 1e-1*data['m2']\n",
    "data['t'] = 1e-4*data['t']"
   ],
   "id": "a83985e5bc770680",
   "outputs": [],
   "execution_count": 53
  },
  {
   "metadata": {},
   "cell_type": "markdown",
   "source": "Generating trajectory of one state using `odeint` function of scipy library.",
   "id": "1017a8dd8c2abea4"
  },
  {
   "metadata": {
    "ExecuteTime": {
     "end_time": "2025-05-20T21:18:31.099167Z",
     "start_time": "2025-05-20T21:18:31.025029Z"
    }
   },
   "cell_type": "code",
   "source": [
    "# reverting units of data to SI\n",
    "state_0 = np.array([data.x1[0], data.y1[0], data.x2[0], data.y2[0], 1e-4*data.vx1[0], 1e-4*data.vy1[0], 1e-4*data.vx2[0], 1e-4*data.vy2[0]])\n",
    "t = np.linspace(0, data.t[0], 1000)*1e4\n",
    "m1 = 10*data.m1[0]\n",
    "m2 = 10*data.m2[0]\n",
    "sol = odeint(twobp, state_0, t, args=(m1, m2))\n",
    "\n",
    "x1 = sol[:,0]\n",
    "y1 = sol[:,1]\n",
    "x2 = sol[:,2]\n",
    "y2 = sol[:,3]\n",
    "\n",
    "plt.plot(x1, y1, label='Body 1')\n",
    "plt.plot(x2, y2, label='Body 2')\n",
    "plt.legend()\n",
    "plt.axis('equal')\n",
    "plt.grid(True)\n",
    "plt.title('Two-Body Orbit')\n",
    "plt.show()\n"
   ],
   "id": "ac3fc50fe928ce3e",
   "outputs": [
    {
     "data": {
      "text/plain": [
       "<Figure size 640x480 with 1 Axes>"
      ],
      "image/png": "[encoded data removed]"
     },
     "metadata": {},
     "output_type": "display_data"
    }
   ],
   "execution_count": 54
  },
  {
   "metadata": {},
   "cell_type": "markdown",
   "source": "Adding positions at time t in dataset",
   "id": "51dd68c480b7445d"
  },
  {
   "metadata": {
    "ExecuteTime": {
     "end_time": "2025-05-20T21:18:51.735599Z",
     "start_time": "2025-05-20T21:18:31.165634Z"
    }
   },
   "cell_type": "code",
   "source": [
    "x1t_data = []\n",
    "y1t_data = []\n",
    "x2t_data = []\n",
    "y2t_data = []\n",
    "for row in data.itertuples(index=False):\n",
    "    # reverting to SI units\n",
    "    state = np.array([row.x1, row.y1, row.x2, row.y2, 1e-4*row.vx1, 1e-4*row.vy1, 1e-4*row.vx2, 1e-4*row.vy2])\n",
    "    m1 = 10*row.m1\n",
    "    m2 = 10*row.m2\n",
    "    t = 1e4*row.t\n",
    "    t = np.linspace(0,t, 1000)\n",
    "    sol = odeint(twobp, state, t, args=(m1, m2))\n",
    "    x1t_data.append(sol[-1,0])\n",
    "    y1t_data.append(sol[-1,1])\n",
    "    x2t_data.append(sol[-1,2])\n",
    "    y2t_data.append(sol[-1,3])\n",
    "x1t_data = np.array(x1t_data)\n",
    "y1t_data = np.array(y1t_data)\n",
    "x2t_data = np.array(x2t_data)\n",
    "y2t_data = np.array(y2t_data)\n",
    "data['x1t'] = x1t_data\n",
    "data['y1t'] = y1t_data\n",
    "data['x2t'] = x2t_data\n",
    "data['y2t'] = y2t_data"
   ],
   "id": "8f93874e03c69fef",
   "outputs": [],
   "execution_count": 55
  },
  {
   "metadata": {
    "ExecuteTime": {
     "end_time": "2025-05-20T21:18:51.840306Z",
     "start_time": "2025-05-20T21:18:51.797128Z"
    }
   },
   "cell_type": "code",
   "source": "data.to_csv('data.csv') # saving csv file",
   "id": "c01e20e411daf9a7",
   "outputs": [],
   "execution_count": 56
  },
  {
   "metadata": {
    "ExecuteTime": {
     "end_time": "2025-05-20T21:18:51.905800Z",
     "start_time": "2025-05-20T21:18:51.896175Z"
    }
   },
   "cell_type": "code",
   "source": "data # visualizing data",
   "id": "54976b3c0c98d15c",
   "outputs": [
    {
     "data": {
      "text/plain": [
       "            x1        y1        x2        y2       vx1       vy1       vx2  \\\n",
       "0    -4.118412 -0.533275 -3.508776 -0.839289  0.254048 -2.145775 -0.349592   \n",
       "1    -1.879883 -1.292926 -1.153815 -1.495389  0.014487 -1.007290  0.441580   \n",
       "2     3.190753  1.376165  3.184794  1.773101 -1.540138 -0.883726  0.345242   \n",
       "3     3.967544 -0.543075  3.713434 -0.522513 -1.386409  1.779063  0.863059   \n",
       "4     2.259623 -1.247914  1.610558 -1.822725 -0.393347  0.174885 -0.871304   \n",
       "...        ...       ...       ...       ...       ...       ...       ...   \n",
       "2495  1.082523 -0.286056  0.436853 -0.473812 -1.586256 -0.271498 -0.012818   \n",
       "2496  0.914526 -3.284574  1.065016 -3.334369  1.332992  2.739927 -2.275403   \n",
       "2497 -2.108209  2.419696 -1.651176  2.438720  0.206477  2.192153  1.262717   \n",
       "2498 -2.692020 -3.350602 -3.110801 -2.943242  1.428033 -0.152505  0.393534   \n",
       "2499  4.359932  3.451537  4.492379  4.373803 -1.243201 -0.542448  0.555570   \n",
       "\n",
       "           vy2        m1        m2         t       x1t       y1t       x2t  \\\n",
       "0    -1.560996  3.720449  8.948541  0.646964 -4.013164 -1.599730 -3.710373   \n",
       "1     1.180835  2.790162  5.623694  0.648550 -1.768344 -1.927016 -0.918106   \n",
       "2     1.059865  6.230743  3.111316  1.083045  1.576732  0.586182  3.450532   \n",
       "3     1.292897  5.088967  4.575150  0.767337  4.080963  0.395459  3.066216   \n",
       "4    -1.227926  6.347621  5.106622  1.151591  1.709768 -1.160889  0.727596   \n",
       "...        ...       ...       ...       ...       ...       ...       ...   \n",
       "2495 -0.820125  9.601940  1.693043  1.569074 -1.264239 -1.085583 -0.389676   \n",
       "2496  1.397072  7.882120  1.312811  1.796776  2.999474  0.902983 -1.161287   \n",
       "2497 -1.455117  5.710351  9.452072  1.955037 -1.020535  6.245750  0.404250   \n",
       "2498 -1.180230  4.787599  2.994644  2.470255  0.131708 -3.721072 -1.013368   \n",
       "2499 -0.167336  4.886926  8.385044  2.215910  1.963185  2.755111  5.514780   \n",
       "\n",
       "           y2t  \n",
       "0    -1.982982  \n",
       "1    -0.739078  \n",
       "2     2.586283  \n",
       "3     0.944090  \n",
       "4    -3.094630  \n",
       "...        ...  \n",
       "2495  0.357774  \n",
       "2496  3.591663  \n",
       "2497 -0.128374  \n",
       "2498 -5.868713  \n",
       "2499  3.708337  \n",
       "\n",
       "[2500 rows x 15 columns]"
      ],
      "text/html": [
       "<div>\n",
       "<style scoped>\n",
       "    .dataframe tbody tr th:only-of-type {\n",
       "        vertical-align: middle;\n",
       "    }\n",
       "\n",
       "    .dataframe tbody tr th {\n",
       "        vertical-align: top;\n",
       "    }\n",
       "\n",
       "    .dataframe thead th {\n",
       "        text-align: right;\n",
       "    }\n",
       "</style>\n",
       "<table border=\"1\" class=\"dataframe\">\n",
       "  <thead>\n",
       "    <tr style=\"text-align: right;\">\n",
       "      <th></th>\n",
       "      <th>x1</th>\n",
       "      <th>y1</th>\n",
       "      <th>x2</th>\n",
       "      <th>y2</th>\n",
       "      <th>vx1</th>\n",
       "      <th>vy1</th>\n",
       "      <th>vx2</th>\n",
       "      <th>vy2</th>\n",
       "      <th>m1</th>\n",
       "      <th>m2</th>\n",
       "      <th>t</th>\n",
       "      <th>x1t</th>\n",
       "      <th>y1t</th>\n",
       "      <th>x2t</th>\n",
       "      <th>y2t</th>\n",
       "    </tr>\n",
       "  </thead>\n",
       "  <tbody>\n",
       "    <tr>\n",
       "      <th>0</th>\n",
       "      <td>-4.118412</td>\n",
       "      <td>-0.533275</td>\n",
       "      <td>-3.508776</td>\n",
       "      <td>-0.839289</td>\n",
       "      <td>0.254048</td>\n",
       "      <td>-2.145775</td>\n",
       "      <td>-0.349592</td>\n",
       "      <td>-1.560996</td>\n",
       "      <td>3.720449</td>\n",
       "      <td>8.948541</td>\n",
       "      <td>0.646964</td>\n",
       "      <td>-4.013164</td>\n",
       "      <td>-1.599730</td>\n",
       "      <td>-3.710373</td>\n",
       "      <td>-1.982982</td>\n",
       "    </tr>\n",
       "    <tr>\n",
       "      <th>1</th>\n",
       "      <td>-1.879883</td>\n",
       "      <td>-1.292926</td>\n",
       "      <td>-1.153815</td>\n",
       "      <td>-1.495389</td>\n",
       "      <td>0.014487</td>\n",
       "      <td>-1.007290</td>\n",
       "      <td>0.441580</td>\n",
       "      <td>1.180835</td>\n",
       "      <td>2.790162</td>\n",
       "      <td>5.623694</td>\n",
       "      <td>0.648550</td>\n",
       "      <td>-1.768344</td>\n",
       "      <td>-1.927016</td>\n",
       "      <td>-0.918106</td>\n",
       "      <td>-0.739078</td>\n",
       "    </tr>\n",
       "    <tr>\n",
       "      <th>2</th>\n",
       "      <td>3.190753</td>\n",
       "      <td>1.376165</td>\n",
       "      <td>3.184794</td>\n",
       "      <td>1.773101</td>\n",
       "      <td>-1.540138</td>\n",
       "      <td>-0.883726</td>\n",
       "      <td>0.345242</td>\n",
       "      <td>1.059865</td>\n",
       "      <td>6.230743</td>\n",
       "      <td>3.111316</td>\n",
       "      <td>1.083045</td>\n",
       "      <td>1.576732</td>\n",
       "      <td>0.586182</td>\n",
       "      <td>3.450532</td>\n",
       "      <td>2.586283</td>\n",
       "    </tr>\n",
       "    <tr>\n",
       "      <th>3</th>\n",
       "      <td>3.967544</td>\n",
       "      <td>-0.543075</td>\n",
       "      <td>3.713434</td>\n",
       "      <td>-0.522513</td>\n",
       "      <td>-1.386409</td>\n",
       "      <td>1.779063</td>\n",
       "      <td>0.863059</td>\n",
       "      <td>1.292897</td>\n",
       "      <td>5.088967</td>\n",
       "      <td>4.575150</td>\n",
       "      <td>0.767337</td>\n",
       "      <td>4.080963</td>\n",
       "      <td>0.395459</td>\n",
       "      <td>3.066216</td>\n",
       "      <td>0.944090</td>\n",
       "    </tr>\n",
       "    <tr>\n",
       "      <th>4</th>\n",
       "      <td>2.259623</td>\n",
       "      <td>-1.247914</td>\n",
       "      <td>1.610558</td>\n",
       "      <td>-1.822725</td>\n",
       "      <td>-0.393347</td>\n",
       "      <td>0.174885</td>\n",
       "      <td>-0.871304</td>\n",
       "      <td>-1.227926</td>\n",
       "      <td>6.347621</td>\n",
       "      <td>5.106622</td>\n",
       "      <td>1.151591</td>\n",
       "      <td>1.709768</td>\n",
       "      <td>-1.160889</td>\n",
       "      <td>0.727596</td>\n",
       "      <td>-3.094630</td>\n",
       "    </tr>\n",
       "    <tr>\n",
       "      <th>...</th>\n",
       "      <td>...</td>\n",
       "      <td>...</td>\n",
       "      <td>...</td>\n",
       "      <td>...</td>\n",
       "      <td>...</td>\n",
       "      <td>...</td>\n",
       "      <td>...</td>\n",
       "      <td>...</td>\n",
       "      <td>...</td>\n",
       "      <td>...</td>\n",
       "      <td>...</td>\n",
       "      <td>...</td>\n",
       "      <td>...</td>\n",
       "      <td>...</td>\n",
       "      <td>...</td>\n",
       "    </tr>\n",
       "    <tr>\n",
       "      <th>2495</th>\n",
       "      <td>1.082523</td>\n",
       "      <td>-0.286056</td>\n",
       "      <td>0.436853</td>\n",
       "      <td>-0.473812</td>\n",
       "      <td>-1.586256</td>\n",
       "      <td>-0.271498</td>\n",
       "      <td>-0.012818</td>\n",
       "      <td>-0.820125</td>\n",
       "      <td>9.601940</td>\n",
       "      <td>1.693043</td>\n",
       "      <td>1.569074</td>\n",
       "      <td>-1.264239</td>\n",
       "      <td>-1.085583</td>\n",
       "      <td>-0.389676</td>\n",
       "      <td>0.357774</td>\n",
       "    </tr>\n",
       "    <tr>\n",
       "      <th>2496</th>\n",
       "      <td>0.914526</td>\n",
       "      <td>-3.284574</td>\n",
       "      <td>1.065016</td>\n",
       "      <td>-3.334369</td>\n",
       "      <td>1.332992</td>\n",
       "      <td>2.739927</td>\n",
       "      <td>-2.275403</td>\n",
       "      <td>1.397072</td>\n",
       "      <td>7.882120</td>\n",
       "      <td>1.312811</td>\n",
       "      <td>1.796776</td>\n",
       "      <td>2.999474</td>\n",
       "      <td>0.902983</td>\n",
       "      <td>-1.161287</td>\n",
       "      <td>3.591663</td>\n",
       "    </tr>\n",
       "    <tr>\n",
       "      <th>2497</th>\n",
       "      <td>-2.108209</td>\n",
       "      <td>2.419696</td>\n",
       "      <td>-1.651176</td>\n",
       "      <td>2.438720</td>\n",
       "      <td>0.206477</td>\n",
       "      <td>2.192153</td>\n",
       "      <td>1.262717</td>\n",
       "      <td>-1.455117</td>\n",
       "      <td>5.710351</td>\n",
       "      <td>9.452072</td>\n",
       "      <td>1.955037</td>\n",
       "      <td>-1.020535</td>\n",
       "      <td>6.245750</td>\n",
       "      <td>0.404250</td>\n",
       "      <td>-0.128374</td>\n",
       "    </tr>\n",
       "    <tr>\n",
       "      <th>2498</th>\n",
       "      <td>-2.692020</td>\n",
       "      <td>-3.350602</td>\n",
       "      <td>-3.110801</td>\n",
       "      <td>-2.943242</td>\n",
       "      <td>1.428033</td>\n",
       "      <td>-0.152505</td>\n",
       "      <td>0.393534</td>\n",
       "      <td>-1.180230</td>\n",
       "      <td>4.787599</td>\n",
       "      <td>2.994644</td>\n",
       "      <td>2.470255</td>\n",
       "      <td>0.131708</td>\n",
       "      <td>-3.721072</td>\n",
       "      <td>-1.013368</td>\n",
       "      <td>-5.868713</td>\n",
       "    </tr>\n",
       "    <tr>\n",
       "      <th>2499</th>\n",
       "      <td>4.359932</td>\n",
       "      <td>3.451537</td>\n",
       "      <td>4.492379</td>\n",
       "      <td>4.373803</td>\n",
       "      <td>-1.243201</td>\n",
       "      <td>-0.542448</td>\n",
       "      <td>0.555570</td>\n",
       "      <td>-0.167336</td>\n",
       "      <td>4.886926</td>\n",
       "      <td>8.385044</td>\n",
       "      <td>2.215910</td>\n",
       "      <td>1.963185</td>\n",
       "      <td>2.755111</td>\n",
       "      <td>5.514780</td>\n",
       "      <td>3.708337</td>\n",
       "    </tr>\n",
       "  </tbody>\n",
       "</table>\n",
       "<p>2500 rows × 15 columns</p>\n",
       "</div>"
      ]
     },
     "execution_count": 57,
     "metadata": {},
     "output_type": "execute_result"
    }
   ],
   "execution_count": 57
  },
  {
   "metadata": {
    "ExecuteTime": {
     "end_time": "2025-05-20T21:18:51.989085Z",
     "start_time": "2025-05-20T21:18:51.982328Z"
    }
   },
   "cell_type": "code",
   "source": [
    "from sklearn.model_selection import train_test_split\n",
    "train, test = train_test_split(data, test_size=0.2) #train test split"
   ],
   "id": "8945b62c24e6df46",
   "outputs": [],
   "execution_count": 58
  },
  {
   "metadata": {
    "ExecuteTime": {
     "end_time": "2025-05-20T21:18:52.137579Z",
     "start_time": "2025-05-20T21:18:52.135197Z"
    }
   },
   "cell_type": "code",
   "source": [
    "import torch\n",
    "import torch.nn as nn\n",
    "import torch.optim as optim\n",
    "device = torch.device('cuda' if torch.cuda.is_available() else 'cpu')"
   ],
   "id": "c647e8fcb6f7f565",
   "outputs": [],
   "execution_count": 59
  },
  {
   "metadata": {
    "ExecuteTime": {
     "end_time": "2025-05-20T21:18:52.248040Z",
     "start_time": "2025-05-20T21:18:52.243701Z"
    }
   },
   "cell_type": "code",
   "source": [
    "X_train = train.iloc[:, :11].values\n",
    "tX_train = torch.tensor(X_train, dtype=torch.float32, requires_grad=True).to(device) # requires grad is true since we need derivatives to calculate during ode loss\n",
    "print(tX_train)"
   ],
   "id": "cbd939dd086609bb",
   "outputs": [
    {
     "name": "stdout",
     "output_type": "stream",
     "text": [
      "tensor([[ 3.8486, -2.4438,  4.6775,  ...,  5.2817,  2.8973,  2.3458],\n",
      "        [ 4.4301,  2.4368,  4.2858,  ...,  9.3698,  8.5374,  1.9368],\n",
      "        [-4.2852, -0.0132, -3.5222,  ...,  4.5265,  4.4929,  1.2127],\n",
      "        ...,\n",
      "        [ 3.4552,  1.8466,  3.4717,  ...,  2.0814,  6.4291,  1.5511],\n",
      "        [-1.5223, -0.9025, -1.7791,  ...,  3.6261,  7.3402,  1.0853],\n",
      "        [ 2.2596, -1.2479,  1.6106,  ...,  6.3476,  5.1066,  1.7850]],\n",
      "       device='cuda:0', grad_fn=<ToCopyBackward0>)\n"
     ]
    }
   ],
   "execution_count": 60
  },
  {
   "metadata": {
    "ExecuteTime": {
     "end_time": "2025-05-20T21:18:52.355049Z",
     "start_time": "2025-05-20T21:18:52.350095Z"
    }
   },
   "cell_type": "code",
   "source": [
    "y_train = train.iloc[:, 11:].values\n",
    "ty_train = torch.from_numpy(y_train).to(device).float()\n",
    "print(ty_train)"
   ],
   "id": "7626295725bf8cbf",
   "outputs": [
    {
     "name": "stdout",
     "output_type": "stream",
     "text": [
      "tensor([[ 3.7283,  0.1974,  5.9815, -0.2112],\n",
      "        [ 1.1702, -0.2347,  1.5570,  6.4189],\n",
      "        [-5.3952,  1.2009, -3.5274, -1.6731],\n",
      "        ...,\n",
      "        [-0.9421,  1.6444,  1.1558, -2.5946],\n",
      "        [ 0.2318,  1.3324, -0.1771,  1.4907],\n",
      "        [ 1.3777, -1.1615,  0.2788, -3.7339]], device='cuda:0')\n"
     ]
    }
   ],
   "execution_count": 61
  },
  {
   "metadata": {
    "ExecuteTime": {
     "end_time": "2025-05-20T21:18:52.468279Z",
     "start_time": "2025-05-20T21:18:52.463844Z"
    }
   },
   "cell_type": "code",
   "source": [
    "X_test = test.iloc[:,:11].values\n",
    "tX_test = torch.tensor(X_test, dtype=torch.float32, requires_grad=True).to(device)\n",
    "y_test = test.iloc[:,11:].values\n",
    "ty_test = torch.tensor(y_test, dtype=torch.float32).to(device)"
   ],
   "id": "e8177357967ac312",
   "outputs": [],
   "execution_count": 62
  },
  {
   "metadata": {},
   "cell_type": "markdown",
   "source": [
    "**Creating Neural Network** <br>\n",
    "Activation function is chosen to be tanh since its double derivative is not zero (required for ode loss) unlike relu whose double derivative is zero."
   ],
   "id": "22e16c934cf9c914"
  },
  {
   "metadata": {
    "ExecuteTime": {
     "end_time": "2025-05-20T21:18:52.575247Z",
     "start_time": "2025-05-20T21:18:52.567924Z"
    }
   },
   "cell_type": "code",
   "source": [
    "class PINN(nn.Module):\n",
    "    def __init__(self, input_dim, output_dim, n_units=100) -> None:\n",
    "        super().__init__()\n",
    "        self.layers = nn.Sequential(\n",
    "            nn.Linear(input_dim, n_units),\n",
    "            nn.Tanh(),\n",
    "            nn.Linear(n_units, 2*n_units),\n",
    "            nn.Tanh(),\n",
    "            nn.Linear(2*n_units, 2*n_units),\n",
    "            nn.Tanh(),\n",
    "            nn.Linear(2*n_units, 2*n_units),\n",
    "            nn.Tanh(),\n",
    "            nn.Linear(2*n_units, 2*n_units),\n",
    "            nn.Tanh(),\n",
    "            nn.Linear(2*n_units, n_units),\n",
    "            nn.Tanh(),\n",
    "        )\n",
    "        self.out = nn.Linear(n_units, output_dim)\n",
    "\n",
    "    def forward(self, x):\n",
    "        h = self.layers(x)\n",
    "        out = self.out(h)\n",
    "        return out\n",
    "\n",
    "    # ode loss fn\n",
    "    def phy_loss(self, X):\n",
    "        # separating t since we only need derivative wrt t\n",
    "        t = X[:, 10].unsqueeze(1).requires_grad_(True)\n",
    "        outputs = self.forward(torch.cat([X[:,:10], t], dim=1))\n",
    "\n",
    "        x1t = outputs[:, 0].unsqueeze(1)\n",
    "        y1t = outputs[:, 1].unsqueeze(1)\n",
    "        x2t = outputs[:, 2].unsqueeze(1)\n",
    "        y2t = outputs[:, 3].unsqueeze(1)\n",
    "\n",
    "        # reverting to SI units\n",
    "        m1 = 10*X[:, 8].unsqueeze(1)\n",
    "        m2 = 10*X[:, 9].unsqueeze(1)\n",
    "\n",
    "        # first derivatives wrt t, i.e., d/dt\n",
    "        x1t_dot = torch.autograd.grad(x1t, t, grad_outputs=torch.ones_like(x1t), create_graph=True,  retain_graph=True)[0]\n",
    "        x2t_dot = torch.autograd.grad(x2t, t, grad_outputs=torch.ones_like(x2t), create_graph=True,  retain_graph=True)[0]\n",
    "        y1t_dot = torch.autograd.grad(y1t, t, grad_outputs=torch.ones_like(y1t), create_graph=True,  retain_graph=True)[0]\n",
    "        y2t_dot = torch.autograd.grad(y2t, t, grad_outputs=torch.ones_like(y2t), create_graph=True,  retain_graph=True)[0]\n",
    "\n",
    "        # double derivatives wrt t, i.e., d2/dt2\n",
    "        # multiplying by 1e-8 to convert to SI units\n",
    "        x1t_ddot = 1e-8*torch.autograd.grad(x1t_dot, t, grad_outputs=torch.ones_like(x1t), retain_graph=True)[0]\n",
    "        y1t_ddot = 1e-8*torch.autograd.grad(y1t_dot, t, grad_outputs=torch.ones_like(y1t), retain_graph=True)[0]\n",
    "        x2t_ddot = 1e-8*torch.autograd.grad(x2t_dot, t, grad_outputs=torch.ones_like(x2t), retain_graph=True)[0]\n",
    "        y2t_ddot = 1e-8*torch.autograd.grad(y2t_dot, t, grad_outputs=torch.ones_like(y2t), retain_graph=True)[0]\n",
    "\n",
    "        dx = x2t - x1t\n",
    "        dy = y2t - y1t\n",
    "        r = torch.sqrt(dx**2 + dy**2 + 1e-6)  # added 1e-6 to avoid division by zero\n",
    "        # self.x1t_ddot = x1t_ddot\n",
    "\n",
    "        # calculating expected accelerations of bodies\n",
    "        ax1 = G * m2 * dx / r**3\n",
    "        ay1 = G * m2 * dy / r**3\n",
    "        # self.ax1 = ax1\n",
    "        ax2 = G * m1 * (-dx) / r**3\n",
    "        ay2 = G * m1 * (-dy) / r**3\n",
    "\n",
    "        # calculating ode loss\n",
    "        loss_x1 = torch.mean(torch.abs(x1t_ddot - ax1))\n",
    "        loss_y1 = torch.mean(torch.abs(y1t_ddot - ay1))\n",
    "        loss_x2 = torch.mean(torch.abs(x2t_ddot - ax2))\n",
    "        loss_y2 = torch.mean(torch.abs(y2t_ddot - ay2))\n",
    "\n",
    "        total_loss = (loss_x1 + loss_y1 + loss_x2 + loss_y2)/4\n",
    "        return total_loss/G # divided by G since total_loss is negligible wrt mse loss."
   ],
   "id": "2810a335412f67f",
   "outputs": [],
   "execution_count": 63
  },
  {
   "metadata": {},
   "cell_type": "markdown",
   "source": "Creating batches for training",
   "id": "fc598e6d272443ee"
  },
  {
   "metadata": {
    "ExecuteTime": {
     "end_time": "2025-05-20T21:18:52.670703Z",
     "start_time": "2025-05-20T21:18:52.667618Z"
    }
   },
   "cell_type": "code",
   "source": [
    "from torch.utils.data import TensorDataset, DataLoader\n",
    "batch_size = 64\n",
    "dataset = TensorDataset(tX_train, ty_train)\n",
    "dataloader = DataLoader(dataset, batch_size=batch_size, shuffle=True)"
   ],
   "id": "f3403e395ec1f150",
   "outputs": [],
   "execution_count": 64
  },
  {
   "metadata": {},
   "cell_type": "markdown",
   "source": "Initializing model",
   "id": "6068ca17e36eae76"
  },
  {
   "metadata": {
    "ExecuteTime": {
     "end_time": "2025-05-20T21:18:52.773594Z",
     "start_time": "2025-05-20T21:18:52.768432Z"
    }
   },
   "cell_type": "code",
   "source": [
    "# Create instance of model\n",
    "model = PINN(input_dim=11, output_dim=4, n_units=128).to(device)\n",
    "optimizer = optim.Adam(model.parameters(), lr=1e-6)"
   ],
   "id": "39910b27e1ef3604",
   "outputs": [],
   "execution_count": 65
  },
  {
   "metadata": {},
   "cell_type": "markdown",
   "source": "Training model",
   "id": "5df1ae21fc4aafb9"
  },
  {
   "metadata": {
    "ExecuteTime": {
     "end_time": "2025-05-20T21:23:22.722151Z",
     "start_time": "2025-05-20T21:18:52.883033Z"
    }
   },
   "cell_type": "code",
   "source": [
    "loss = []\n",
    "epochs = 1000\n",
    "for epoch in range(epochs):\n",
    "    for batch_X, batch_y in dataloader:\n",
    "        batch_X = batch_X.to(device)\n",
    "        batch_y = batch_y.to(device)\n",
    "\n",
    "        # forward propagation\n",
    "        outputs = model.forward(batch_X)\n",
    "\n",
    "        # mse loss\n",
    "        data_loss = nn.functional.mse_loss(outputs, batch_y)\n",
    "\n",
    "        # ode loss\n",
    "        physics_loss = model.phy_loss(batch_X)\n",
    "\n",
    "        # Total loss\n",
    "        total_loss = data_loss + physics_loss\n",
    "        # Backpropagation\n",
    "        optimizer.zero_grad()\n",
    "        total_loss.backward()\n",
    "        nn.utils.clip_grad_norm_(model.parameters(), max_norm=2.0) # preventing exploding gradient issue\n",
    "        optimizer.step()\n",
    "    loss.append(total_loss.item())\n",
    "    if epoch % 100 == 0:\n",
    "        print(f\"Epoch {epoch}, Total Loss: {total_loss.item():.4}\")\n",
    "        print('ODE Loss:', physics_loss.item())"
   ],
   "id": "fee9d5894cd1fead",
   "outputs": [
    {
     "name": "stdout",
     "output_type": "stream",
     "text": [
      "Epoch 0, Total Loss: 2.344e+03\n",
      "ODE Loss: 2336.923095703125\n",
      "Epoch 100, Total Loss: 11.83\n",
      "ODE Loss: 1.3151435852050781\n",
      "Epoch 200, Total Loss: 13.43\n",
      "ODE Loss: 2.5257368087768555\n",
      "Epoch 300, Total Loss: 6.789\n",
      "ODE Loss: 2.5738563537597656\n",
      "Epoch 400, Total Loss: 7.563\n",
      "ODE Loss: 3.312325954437256\n",
      "Epoch 500, Total Loss: 6.513\n",
      "ODE Loss: 3.255016565322876\n",
      "Epoch 600, Total Loss: 8.077\n",
      "ODE Loss: 4.288602352142334\n",
      "Epoch 700, Total Loss: 8.995\n",
      "ODE Loss: 4.194737434387207\n",
      "Epoch 800, Total Loss: 8.554\n",
      "ODE Loss: 3.3395750522613525\n",
      "Epoch 900, Total Loss: 9.674\n",
      "ODE Loss: 4.800471305847168\n"
     ]
    }
   ],
   "execution_count": 66
  },
  {
   "metadata": {},
   "cell_type": "markdown",
   "source": "Visualizing loss curve",
   "id": "1c7868b9a5a67f80"
  },
  {
   "metadata": {
    "ExecuteTime": {
     "end_time": "2025-05-20T21:23:39.900363Z",
     "start_time": "2025-05-20T21:23:39.762736Z"
    }
   },
   "cell_type": "code",
   "source": [
    "plt.title('Loss vs Epochs')\n",
    "plt.plot(loss)\n",
    "plt.xlabel('Epochs')\n",
    "plt.ylabel('Loss')\n",
    "plt.yscale('log')"
   ],
   "id": "130528caabc1ebc7",
   "outputs": [
    {
     "data": {
      "text/plain": [
       "<Figure size 640x480 with 1 Axes>"
      ],
      "image/png": "[encoded data removed]"
     },
     "metadata": {},
     "output_type": "display_data"
    }
   ],
   "execution_count": 72
  },
  {
   "metadata": {},
   "cell_type": "markdown",
   "source": "MAE over train data",
   "id": "36a0ae4195944f16"
  },
  {
   "metadata": {
    "ExecuteTime": {
     "end_time": "2025-05-20T21:23:39.978547Z",
     "start_time": "2025-05-20T21:23:39.975748Z"
    }
   },
   "cell_type": "code",
   "source": [
    "y_hypo = model.forward(tX_train)\n",
    "print(torch.mean(torch.abs(y_hypo - ty_train)))"
   ],
   "id": "a7fd1078f91f55d4",
   "outputs": [
    {
     "name": "stdout",
     "output_type": "stream",
     "text": [
      "tensor(1.2983, device='cuda:0', grad_fn=<MeanBackward0>)\n"
     ]
    }
   ],
   "execution_count": 73
  },
  {
   "metadata": {},
   "cell_type": "markdown",
   "source": "MAE over test data",
   "id": "ee79107b54380895"
  },
  {
   "metadata": {
    "ExecuteTime": {
     "end_time": "2025-05-20T21:23:40.076794Z",
     "start_time": "2025-05-20T21:23:40.072866Z"
    }
   },
   "cell_type": "code",
   "source": [
    "y_hypo_test = model.forward(tX_test)\n",
    "print('MAE over test data: ', torch.mean(torch.abs(ty_test - y_hypo_test)).item())"
   ],
   "id": "601de2ff23b763ca",
   "outputs": [
    {
     "name": "stdout",
     "output_type": "stream",
     "text": [
      "MAE over test data:  1.2382644414901733\n"
     ]
    }
   ],
   "execution_count": 74
  },
  {
   "metadata": {},
   "cell_type": "markdown",
   "source": "Mean ODE residual",
   "id": "10a126f22b0d60eb"
  },
  {
   "metadata": {
    "ExecuteTime": {
     "end_time": "2025-05-20T21:23:40.145795Z",
     "start_time": "2025-05-20T21:23:40.134994Z"
    }
   },
   "cell_type": "code",
   "source": [
    "odeloss = model.phy_loss(tX_test)\n",
    "print('Mean ODE residual: ', odeloss.item())"
   ],
   "id": "460020f67f406065",
   "outputs": [
    {
     "name": "stdout",
     "output_type": "stream",
     "text": [
      "Mean ODE residual:  5.515988349914551\n"
     ]
    }
   ],
   "execution_count": 75
  }
 ],
 "metadata": {
  "kernelspec": {
   "display_name": "Python 3",
   "language": "python",
   "name": "python3"
  },
  "language_info": {
   "codemirror_mode": {
    "name": "ipython",
    "version": 2
   },
   "file_extension": ".py",
   "mimetype": "text/x-python",
   "name": "python",
   "nbconvert_exporter": "python",
   "pygments_lexer": "ipython2",
   "version": "2.7.6"
  }
 },
 "nbformat": 4,
 "nbformat_minor": 5
}
